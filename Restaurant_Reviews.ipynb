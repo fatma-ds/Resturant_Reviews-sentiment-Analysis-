{
  "cells": [
    {
      "cell_type": "markdown",
      "metadata": {
        "id": "view-in-github",
        "colab_type": "text"
      },
      "source": [
        "<a href=\"https://colab.research.google.com/github/fatma-ds/sentiment_Analysis/blob/main/Restaurant_Reviews.ipynb\" target=\"_parent\"><img src=\"https://colab.research.google.com/assets/colab-badge.svg\" alt=\"Open In Colab\"/></a>"
      ]
    },
    {
      "cell_type": "markdown",
      "metadata": {
        "id": "3iAM5GXNR8XB"
      },
      "source": [
        "# Restaurant_Reviews(Sentiment Analysis)"
      ],
      "id": "3iAM5GXNR8XB"
    },
    {
      "cell_type": "markdown",
      "metadata": {
        "id": "Z-hp1XqPR8XB"
      },
      "source": [
        "### 1.Download the dataset that is about 25 KB "
      ],
      "id": "Z-hp1XqPR8XB"
    },
    {
      "cell_type": "code",
      "execution_count": null,
      "metadata": {
        "id": "AiqR7inuR8XC"
      },
      "outputs": [],
      "source": [
        "import pandas as pd\n",
        "from sklearn import preprocessing\n",
        "import re\n",
        "from sklearn.model_selection import train_test_split\n",
        "import tensorflow as tf\n",
        "import numpy as np\n",
        "import seaborn as sns\n",
        "import pandas as pd\n",
        "import matplotlib.pyplot as plt"
      ],
      "id": "AiqR7inuR8XC"
    },
    {
      "cell_type": "code",
      "execution_count": null,
      "metadata": {
        "scrolled": true,
        "id": "j_WjwlzXR8XC",
        "outputId": "fb82de07-3477-4235-f82d-82bccfc1c66c"
      },
      "outputs": [
        {
          "data": {
            "text/html": [
              "<div>\n",
              "<style scoped>\n",
              "    .dataframe tbody tr th:only-of-type {\n",
              "        vertical-align: middle;\n",
              "    }\n",
              "\n",
              "    .dataframe tbody tr th {\n",
              "        vertical-align: top;\n",
              "    }\n",
              "\n",
              "    .dataframe thead th {\n",
              "        text-align: right;\n",
              "    }\n",
              "</style>\n",
              "<table border=\"1\" class=\"dataframe\">\n",
              "  <thead>\n",
              "    <tr style=\"text-align: right;\">\n",
              "      <th></th>\n",
              "      <th>Review</th>\n",
              "      <th>Liked</th>\n",
              "    </tr>\n",
              "  </thead>\n",
              "  <tbody>\n",
              "    <tr>\n",
              "      <th>0</th>\n",
              "      <td>Wow... Loved this place.</td>\n",
              "      <td>1</td>\n",
              "    </tr>\n",
              "    <tr>\n",
              "      <th>1</th>\n",
              "      <td>Crust is not good.</td>\n",
              "      <td>0</td>\n",
              "    </tr>\n",
              "    <tr>\n",
              "      <th>2</th>\n",
              "      <td>Not tasty and the texture was just nasty.</td>\n",
              "      <td>0</td>\n",
              "    </tr>\n",
              "    <tr>\n",
              "      <th>3</th>\n",
              "      <td>Stopped by during the late May bank holiday of...</td>\n",
              "      <td>1</td>\n",
              "    </tr>\n",
              "    <tr>\n",
              "      <th>4</th>\n",
              "      <td>The selection on the menu was great and so wer...</td>\n",
              "      <td>1</td>\n",
              "    </tr>\n",
              "    <tr>\n",
              "      <th>...</th>\n",
              "      <td>...</td>\n",
              "      <td>...</td>\n",
              "    </tr>\n",
              "    <tr>\n",
              "      <th>995</th>\n",
              "      <td>I think food should have flavor and texture an...</td>\n",
              "      <td>0</td>\n",
              "    </tr>\n",
              "    <tr>\n",
              "      <th>996</th>\n",
              "      <td>Appetite instantly gone.</td>\n",
              "      <td>0</td>\n",
              "    </tr>\n",
              "    <tr>\n",
              "      <th>997</th>\n",
              "      <td>Overall I was not impressed and would not go b...</td>\n",
              "      <td>0</td>\n",
              "    </tr>\n",
              "    <tr>\n",
              "      <th>998</th>\n",
              "      <td>The whole experience was underwhelming, and I ...</td>\n",
              "      <td>0</td>\n",
              "    </tr>\n",
              "    <tr>\n",
              "      <th>999</th>\n",
              "      <td>Then, as if I hadn't wasted enough of my life ...</td>\n",
              "      <td>0</td>\n",
              "    </tr>\n",
              "  </tbody>\n",
              "</table>\n",
              "<p>1000 rows × 2 columns</p>\n",
              "</div>"
            ],
            "text/plain": [
              "                                                Review  Liked\n",
              "0                             Wow... Loved this place.      1\n",
              "1                                   Crust is not good.      0\n",
              "2            Not tasty and the texture was just nasty.      0\n",
              "3    Stopped by during the late May bank holiday of...      1\n",
              "4    The selection on the menu was great and so wer...      1\n",
              "..                                                 ...    ...\n",
              "995  I think food should have flavor and texture an...      0\n",
              "996                           Appetite instantly gone.      0\n",
              "997  Overall I was not impressed and would not go b...      0\n",
              "998  The whole experience was underwhelming, and I ...      0\n",
              "999  Then, as if I hadn't wasted enough of my life ...      0\n",
              "\n",
              "[1000 rows x 2 columns]"
            ]
          },
          "execution_count": 2,
          "metadata": {},
          "output_type": "execute_result"
        }
      ],
      "source": [
        "review_file_path = \"/content/Restaurant_Reviews.tsv\"\n",
        "review_csv_ds = pd.read_csv(review_file_path,sep='\\t')\n",
        "\n",
        "review_csv_ds        "
      ],
      "id": "j_WjwlzXR8XC"
    },
    {
      "cell_type": "code",
      "execution_count": null,
      "metadata": {
        "id": "SgaikxdZR8XC",
        "outputId": "ef6d6f6c-cce0-4c65-98b0-56cbcdb48374"
      },
      "outputs": [
        {
          "data": {
            "text/plain": [
              "1    500\n",
              "0    500\n",
              "Name: Liked, dtype: int64"
            ]
          },
          "execution_count": 3,
          "metadata": {},
          "output_type": "execute_result"
        }
      ],
      "source": [
        "\n",
        "review_csv_ds.Liked.value_counts()"
      ],
      "id": "SgaikxdZR8XC"
    },
    {
      "cell_type": "markdown",
      "metadata": {
        "id": "NMi0x7l7R8XC"
      },
      "source": [
        "### Clean and preprocess the text data and split into training and test dataset."
      ],
      "id": "NMi0x7l7R8XC"
    },
    {
      "cell_type": "markdown",
      "metadata": {
        "id": "9zw1CnQ0R8XD"
      },
      "source": [
        "### Separate Input Texts and Target Texts"
      ],
      "id": "9zw1CnQ0R8XD"
    },
    {
      "cell_type": "code",
      "execution_count": null,
      "metadata": {
        "id": "1gi-YVROR8XD"
      },
      "outputs": [],
      "source": [
        "# Remove all special characters, punctuation and spaces\n",
        "review_csv_ds['Review'] = review_csv_ds['Review'].apply(lambda x: re.sub(r'[^A-Za-z0-9]+',' ',x))\n",
        "# Replace special characters,<br />,  in the file\n",
        "review_csv_ds['Review'] = review_csv_ds['Review'].apply(lambda x: re.sub(r\"<br />\", \" \", x))\n",
        "# Remove length <=2\n",
        "review_csv_ds['Review'] = review_csv_ds['Review'].apply(lambda x: re.sub(r'\\b[a-zA-Z]{1,2}\\b', '', x))\n",
        "            \n",
        "\n"
      ],
      "id": "1gi-YVROR8XD"
    },
    {
      "cell_type": "code",
      "execution_count": null,
      "metadata": {
        "id": "dzFg2zlRR8XD"
      },
      "outputs": [],
      "source": [
        "X = review_csv_ds['Review'].values\n",
        "y = review_csv_ds['Liked'].values\n",
        "X_train, X_test, y_train, y_test = train_test_split(X, y, stratify=y, test_size=0.2)"
      ],
      "id": "dzFg2zlRR8XD"
    },
    {
      "cell_type": "code",
      "execution_count": null,
      "metadata": {
        "id": "OIvdWGETR8XD",
        "outputId": "b808b7a1-3916-4a34-aeab-7dff22dab517"
      },
      "outputs": [
        {
          "name": "stdout",
          "output_type": "stream",
          "text": [
            "X_train size  =(800,); X_test size  =(200,)\n"
          ]
        }
      ],
      "source": [
        "print(f'X_train size  ={X_train.shape}; X_test size  ={X_test.shape}')"
      ],
      "id": "OIvdWGETR8XD"
    },
    {
      "cell_type": "code",
      "execution_count": null,
      "metadata": {
        "id": "pvXOIFR9R8XD"
      },
      "outputs": [],
      "source": [
        "# Specify the vocab size\n",
        "VOCAB_SIZE = 1000\n",
        "# Perform textvectorization\n",
        "encoder = tf.keras.layers.experimental.preprocessing.TextVectorization(\n",
        "    max_tokens=VOCAB_SIZE)\n",
        "\n",
        "# Fits the state of the preprocessing layer to the dataset.\n",
        "encoder.adapt(X_train)"
      ],
      "id": "pvXOIFR9R8XD"
    },
    {
      "cell_type": "code",
      "execution_count": null,
      "metadata": {
        "id": "-dW_nsb8R8XD",
        "outputId": "5a8ef9c9-ff9f-4b07-ab2e-0fc142294391"
      },
      "outputs": [
        {
          "data": {
            "text/plain": [
              "array(['', '[UNK]', 'the', 'and', 'was', 'this', 'food', 'not', 'for',\n",
              "       'place', 'good', 'service', 'that', 'very', 'great', 'are', 'with',\n",
              "       'have', 'had', 'back'], dtype='<U17')"
            ]
          },
          "execution_count": 8,
          "metadata": {},
          "output_type": "execute_result"
        }
      ],
      "source": [
        "vocab = np.array(encoder.get_vocabulary())\n",
        "vocab[:20]"
      ],
      "id": "-dW_nsb8R8XD"
    },
    {
      "cell_type": "markdown",
      "metadata": {
        "id": "jXyUnx2lR8XE"
      },
      "source": [
        "### Build a baseline RNN model using embedding layer and GRU on the training dataset and evaluate it on the test dataset."
      ],
      "id": "jXyUnx2lR8XE"
    },
    {
      "cell_type": "markdown",
      "metadata": {
        "id": "I9wyegd_R8XE"
      },
      "source": [
        "## Create the RNN Model"
      ],
      "id": "I9wyegd_R8XE"
    },
    {
      "cell_type": "code",
      "execution_count": null,
      "metadata": {
        "id": "zqyYQQwRR8XE"
      },
      "outputs": [],
      "source": [
        "model = tf.keras.Sequential([\n",
        "    # Convert review text to indices\n",
        "    encoder, \n",
        "    #convert words to numerical values\n",
        "    tf.keras.layers.Embedding(\n",
        "        input_dim=len(encoder.get_vocabulary()),\n",
        "        output_dim=64,# each word is mapped to a 64 dimensional vector\n",
        "       # Mask the variable sequence lengths and ensure they have the same length by padding\n",
        "        mask_zero=True),\n",
        "    \n",
        "    # passed the numerical value to a GRU unit \n",
        "    tf.keras.layers.GRU(256, return_sequences=True),\n",
        "   \n",
        "    tf.keras.layers.Bidirectional(tf.keras.layers.GRU(256)),\n",
        "   \n",
        "    # Binary classifier since label has two classes of positive and negative \n",
        "    tf.keras.layers.Dense(64, activation='relu'),\n",
        "\n",
        "    #the last layer must have one neuron since it is a binary classification \n",
        "    tf.keras.layers.Dense(1)\n",
        "])"
      ],
      "id": "zqyYQQwRR8XE"
    },
    {
      "cell_type": "code",
      "execution_count": null,
      "metadata": {
        "id": "vFiWxzOYR8XE"
      },
      "outputs": [],
      "source": [
        "model.compile(loss=tf.keras.losses.BinaryCrossentropy(from_logits=True),\n",
        "              optimizer=tf.keras.optimizers.Adam(1e-4),\n",
        "              metrics=['accuracy'])"
      ],
      "id": "vFiWxzOYR8XE"
    },
    {
      "cell_type": "code",
      "execution_count": null,
      "metadata": {
        "id": "aIioY4g-R8XE",
        "outputId": "4740b07c-34a4-4146-a9b9-d26e81260ba9"
      },
      "outputs": [
        {
          "name": "stdout",
          "output_type": "stream",
          "text": [
            "Epoch 1/20\n",
            "25/25 [==============================] - 11s 139ms/step - loss: 0.6925 - accuracy: 0.5000 - val_loss: 0.6921 - val_accuracy: 0.5000\n",
            "Epoch 2/20\n",
            "25/25 [==============================] - 1s 40ms/step - loss: 0.6894 - accuracy: 0.5000 - val_loss: 0.6897 - val_accuracy: 0.5000\n",
            "Epoch 3/20\n",
            "25/25 [==============================] - 1s 39ms/step - loss: 0.6833 - accuracy: 0.5000 - val_loss: 0.6825 - val_accuracy: 0.5000\n",
            "Epoch 4/20\n",
            "25/25 [==============================] - 1s 38ms/step - loss: 0.6636 - accuracy: 0.5000 - val_loss: 0.6561 - val_accuracy: 0.5000\n",
            "Epoch 5/20\n",
            "25/25 [==============================] - 1s 40ms/step - loss: 0.5883 - accuracy: 0.6100 - val_loss: 0.5808 - val_accuracy: 0.7050\n",
            "Epoch 6/20\n",
            "25/25 [==============================] - 1s 40ms/step - loss: 0.4247 - accuracy: 0.8100 - val_loss: 0.6031 - val_accuracy: 0.7150\n",
            "Epoch 7/20\n",
            "25/25 [==============================] - 1s 40ms/step - loss: 0.3290 - accuracy: 0.8662 - val_loss: 0.5954 - val_accuracy: 0.7100\n",
            "Epoch 8/20\n",
            "25/25 [==============================] - 1s 44ms/step - loss: 0.2602 - accuracy: 0.9100 - val_loss: 0.6317 - val_accuracy: 0.7350\n",
            "Epoch 9/20\n",
            "25/25 [==============================] - 1s 46ms/step - loss: 0.2096 - accuracy: 0.9262 - val_loss: 0.7107 - val_accuracy: 0.7450\n",
            "Epoch 10/20\n",
            "25/25 [==============================] - 1s 45ms/step - loss: 0.1710 - accuracy: 0.9475 - val_loss: 0.8524 - val_accuracy: 0.7350\n",
            "Epoch 11/20\n",
            "25/25 [==============================] - 1s 49ms/step - loss: 0.1441 - accuracy: 0.9625 - val_loss: 0.8379 - val_accuracy: 0.7850\n",
            "Epoch 12/20\n",
            "25/25 [==============================] - 1s 46ms/step - loss: 0.1206 - accuracy: 0.9600 - val_loss: 0.8209 - val_accuracy: 0.7750\n",
            "Epoch 13/20\n",
            "25/25 [==============================] - 1s 45ms/step - loss: 0.1234 - accuracy: 0.9550 - val_loss: 0.9162 - val_accuracy: 0.7650\n",
            "Epoch 14/20\n",
            "25/25 [==============================] - 1s 46ms/step - loss: 0.0929 - accuracy: 0.9712 - val_loss: 0.8762 - val_accuracy: 0.7900\n",
            "Epoch 15/20\n",
            "25/25 [==============================] - 1s 47ms/step - loss: 0.0823 - accuracy: 0.9775 - val_loss: 1.0017 - val_accuracy: 0.7600\n",
            "Epoch 16/20\n",
            "25/25 [==============================] - 1s 44ms/step - loss: 0.0622 - accuracy: 0.9862 - val_loss: 1.0809 - val_accuracy: 0.7550\n",
            "Epoch 17/20\n",
            "25/25 [==============================] - 1s 51ms/step - loss: 0.0540 - accuracy: 0.9887 - val_loss: 1.2317 - val_accuracy: 0.7500\n",
            "Epoch 18/20\n",
            "25/25 [==============================] - 1s 46ms/step - loss: 0.0465 - accuracy: 0.9850 - val_loss: 1.4704 - val_accuracy: 0.7600\n",
            "Epoch 19/20\n",
            "25/25 [==============================] - 1s 47ms/step - loss: 0.0423 - accuracy: 0.9900 - val_loss: 1.6442 - val_accuracy: 0.7550\n",
            "Epoch 20/20\n",
            "25/25 [==============================] - 1s 50ms/step - loss: 0.0655 - accuracy: 0.9837 - val_loss: 1.5726 - val_accuracy: 0.7550\n",
            "CPU times: user 1min 38s, sys: 24.2 s, total: 2min 3s\n",
            "Wall time: 32.3 s\n"
          ]
        }
      ],
      "source": [
        "%%time\n",
        "history = model.fit(x=X_train,y=y_train,batch_size= 32,epochs=20,\n",
        "          validation_data=(X_test,y_test), verbose= 1\n",
        ")"
      ],
      "id": "aIioY4g-R8XE"
    },
    {
      "cell_type": "code",
      "execution_count": null,
      "metadata": {
        "id": "g9cKUcZbR8XF",
        "outputId": "cd351767-d851-4ca0-b5bb-427113fa4a00"
      },
      "outputs": [
        {
          "data": {
            "text/plain": [
              "<matplotlib.legend.Legend at 0x7fccf00329d0>"
            ]
          },
          "execution_count": 66,
          "metadata": {},
          "output_type": "execute_result"
        },
        {
          "data": {
            "image/png": "[encoded data removed]",
            "text/plain": [
              "<Figure size 432x288 with 1 Axes>"
            ]
          },
          "metadata": {
            "needs_background": "light"
          },
          "output_type": "display_data"
        }
      ],
      "source": [
        "## Evaluate the Model\n",
        "import seaborn as sns\n",
        "import pandas as pd\n",
        "import matplotlib.pyplot as plt\n",
        "\n",
        "train_history = pd.DataFrame(history.history)\n",
        "train_history['epoch'] = history.epoch\n",
        "# Plot train loss\n",
        "sns.lineplot(x='epoch', y ='loss', data =train_history)\n",
        "# Plot validation loss\n",
        "sns.lineplot(x='epoch', y ='val_loss', data =train_history)\n",
        "# Add legends\n",
        "plt.legend(labels=['train_loss', 'val_loss'])"
      ],
      "id": "g9cKUcZbR8XF"
    },
    {
      "cell_type": "code",
      "execution_count": null,
      "metadata": {
        "id": "xol4aSRuR8XF",
        "outputId": "d7d04280-ae39-4a94-c9d3-b4dc5e1cc331"
      },
      "outputs": [
        {
          "data": {
            "text/plain": [
              "<matplotlib.legend.Legend at 0x7fcceaad79a0>"
            ]
          },
          "execution_count": 67,
          "metadata": {},
          "output_type": "execute_result"
        },
        {
          "data": {
            "image/png": "[encoded data removed]",
            "text/plain": [
              "<Figure size 432x288 with 1 Axes>"
            ]
          },
          "metadata": {
            "needs_background": "light"
          },
          "output_type": "display_data"
        }
      ],
      "source": [
        "sns.lineplot(x='epoch', y ='accuracy', data =train_history)\n",
        "# Plot validation loss\n",
        "sns.lineplot(x='epoch', y ='val_accuracy', data =train_history)\n",
        "# Add legends\n",
        "plt.legend(labels=['train_accuracy', 'val_accuracy'])"
      ],
      "id": "xol4aSRuR8XF"
    },
    {
      "cell_type": "code",
      "execution_count": null,
      "metadata": {
        "id": "wXxV1a4iR8XF"
      },
      "outputs": [],
      "source": [
        "y_pred = (model.predict(X_test)> 0.5).astype(int)"
      ],
      "id": "wXxV1a4iR8XF"
    },
    {
      "cell_type": "code",
      "execution_count": null,
      "metadata": {
        "id": "0e5iHml0R8XF",
        "outputId": "a21dff83-f217-498c-a8cf-ca9322dc6958"
      },
      "outputs": [
        {
          "data": {
            "text/plain": [
              "array([[70, 30],\n",
              "       [19, 81]])"
            ]
          },
          "execution_count": 69,
          "metadata": {},
          "output_type": "execute_result"
        }
      ],
      "source": [
        "from sklearn.metrics import confusion_matrix\n",
        "confusion_matrix(y_test, y_pred)"
      ],
      "id": "0e5iHml0R8XF"
    },
    {
      "cell_type": "code",
      "execution_count": null,
      "metadata": {
        "id": "jJ43aJ3RR8XG",
        "outputId": "ee96d99c-76eb-4af0-8ed5-3504d8f87796"
      },
      "outputs": [
        {
          "name": "stdout",
          "output_type": "stream",
          "text": [
            "              precision    recall  f1-score   support\n",
            "\n",
            "    negative       0.79      0.70      0.74       100\n",
            "    positive       0.73      0.81      0.77       100\n",
            "\n",
            "    accuracy                           0.76       200\n",
            "   macro avg       0.76      0.76      0.75       200\n",
            "weighted avg       0.76      0.76      0.75       200\n",
            "\n"
          ]
        }
      ],
      "source": [
        "from sklearn.metrics import classification_report\n",
        "label_names = ['negative', 'positive']\n",
        "print(classification_report(y_test, y_pred, target_names=label_names))"
      ],
      "id": "jJ43aJ3RR8XG"
    },
    {
      "cell_type": "markdown",
      "metadata": {
        "id": "o0RztesER8XG"
      },
      "source": [
        "### Build a second RNN model using embedding layer and LSTM and evaluate it on the test dataset."
      ],
      "id": "o0RztesER8XG"
    },
    {
      "cell_type": "code",
      "execution_count": null,
      "metadata": {
        "id": "QX144y9VR8XG"
      },
      "outputs": [],
      "source": [
        "model = tf.keras.Sequential([\n",
        "    # Convert review text to indices\n",
        "    encoder, \n",
        "    #convert words to numerical values \n",
        "    tf.keras.layers.Embedding(\n",
        "        input_dim=len(encoder.get_vocabulary()),\n",
        "        output_dim=64,# each word is mapped to a 64 dimensional vector\n",
        "        #Mask the variable sequence lengths and ensure they have the same length by padding\n",
        "        mask_zero=True),\n",
        "    # passed the numerical value to  a LSTM\n",
        "    tf.keras.layers.LSTM(256, return_sequences=True),\n",
        "\n",
        "    tf.keras.layers.Bidirectional(tf.keras.layers.LSTM(256)),\n",
        "  \n",
        "     \n",
        "    # Binary classifier since the label has two classes of positive and negative\n",
        "    tf.keras.layers.Dense(64, activation='relu'),\n",
        " \n",
        "    #the last layer must have one neuron since it is a binary classification \n",
        "    tf.keras.layers.Dense(1)\n",
        "])"
      ],
      "id": "QX144y9VR8XG"
    },
    {
      "cell_type": "code",
      "execution_count": null,
      "metadata": {
        "id": "mLMf8S5QR8XH"
      },
      "outputs": [],
      "source": [
        "model.compile(loss=tf.keras.losses.BinaryCrossentropy(from_logits=True),\n",
        "              optimizer=tf.keras.optimizers.Adam(1e-4),\n",
        "              metrics=['accuracy'])"
      ],
      "id": "mLMf8S5QR8XH"
    },
    {
      "cell_type": "code",
      "execution_count": null,
      "metadata": {
        "id": "6C4nTS5fR8XH",
        "outputId": "07da04d5-de86-40cf-efd5-20aaf47070a2"
      },
      "outputs": [
        {
          "name": "stdout",
          "output_type": "stream",
          "text": [
            "Epoch 1/20\n",
            "25/25 [==============================] - 12s 181ms/step - loss: 0.6928 - accuracy: 0.5000 - val_loss: 0.6920 - val_accuracy: 0.5000\n",
            "Epoch 2/20\n",
            "25/25 [==============================] - 2s 79ms/step - loss: 0.6902 - accuracy: 0.5000 - val_loss: 0.6884 - val_accuracy: 0.5000\n",
            "Epoch 3/20\n",
            "25/25 [==============================] - 2s 80ms/step - loss: 0.6777 - accuracy: 0.5000 - val_loss: 0.6650 - val_accuracy: 0.5000\n",
            "Epoch 4/20\n",
            "25/25 [==============================] - 2s 85ms/step - loss: 0.6007 - accuracy: 0.5238 - val_loss: 0.6613 - val_accuracy: 0.5350\n",
            "Epoch 5/20\n",
            "25/25 [==============================] - 2s 98ms/step - loss: 0.5240 - accuracy: 0.6625 - val_loss: 0.6732 - val_accuracy: 0.5600\n",
            "Epoch 6/20\n",
            "25/25 [==============================] - 2s 96ms/step - loss: 0.4446 - accuracy: 0.7312 - val_loss: 0.7066 - val_accuracy: 0.6300\n",
            "Epoch 7/20\n",
            "25/25 [==============================] - 2s 89ms/step - loss: 0.3943 - accuracy: 0.7800 - val_loss: 0.6776 - val_accuracy: 0.6550\n",
            "Epoch 8/20\n",
            "25/25 [==============================] - 2s 91ms/step - loss: 0.3531 - accuracy: 0.8213 - val_loss: 0.6610 - val_accuracy: 0.7200\n",
            "Epoch 9/20\n",
            "25/25 [==============================] - 2s 98ms/step - loss: 0.3070 - accuracy: 0.8537 - val_loss: 0.6768 - val_accuracy: 0.7350\n",
            "Epoch 10/20\n",
            "25/25 [==============================] - 2s 93ms/step - loss: 0.2839 - accuracy: 0.8637 - val_loss: 0.7612 - val_accuracy: 0.7150\n",
            "Epoch 11/20\n",
            "25/25 [==============================] - 2s 92ms/step - loss: 0.2357 - accuracy: 0.8938 - val_loss: 0.8315 - val_accuracy: 0.7400\n",
            "Epoch 12/20\n",
            "25/25 [==============================] - 2s 91ms/step - loss: 0.2446 - accuracy: 0.9075 - val_loss: 0.9442 - val_accuracy: 0.7250\n",
            "Epoch 13/20\n",
            "25/25 [==============================] - 2s 90ms/step - loss: 0.2106 - accuracy: 0.9100 - val_loss: 0.8638 - val_accuracy: 0.7050\n",
            "Epoch 14/20\n",
            "25/25 [==============================] - 2s 99ms/step - loss: 0.1813 - accuracy: 0.9300 - val_loss: 0.8554 - val_accuracy: 0.7600\n",
            "Epoch 15/20\n",
            "25/25 [==============================] - 2s 95ms/step - loss: 0.1635 - accuracy: 0.9375 - val_loss: 1.0025 - val_accuracy: 0.7650\n",
            "Epoch 16/20\n",
            "25/25 [==============================] - 2s 90ms/step - loss: 0.2021 - accuracy: 0.9438 - val_loss: 0.8343 - val_accuracy: 0.7500\n",
            "Epoch 17/20\n",
            "25/25 [==============================] - 2s 90ms/step - loss: 0.1452 - accuracy: 0.9425 - val_loss: 0.9877 - val_accuracy: 0.7400\n",
            "Epoch 18/20\n",
            "25/25 [==============================] - 2s 96ms/step - loss: 0.1223 - accuracy: 0.9625 - val_loss: 1.1022 - val_accuracy: 0.7450\n",
            "Epoch 19/20\n",
            "25/25 [==============================] - 3s 103ms/step - loss: 0.1085 - accuracy: 0.9700 - val_loss: 1.2077 - val_accuracy: 0.7650\n",
            "Epoch 20/20\n",
            "25/25 [==============================] - 2s 90ms/step - loss: 0.0983 - accuracy: 0.9775 - val_loss: 1.3198 - val_accuracy: 0.7550\n",
            "CPU times: user 3min 38s, sys: 59.5 s, total: 4min 38s\n",
            "Wall time: 55.9 s\n"
          ]
        }
      ],
      "source": [
        "%%time\n",
        "history = model.fit(x=X_train,y=y_train,batch_size= 32,epochs=20,\n",
        "          validation_data=(X_test,y_test), verbose= 1\n",
        ")"
      ],
      "id": "6C4nTS5fR8XH"
    },
    {
      "cell_type": "code",
      "execution_count": null,
      "metadata": {
        "id": "vfNXETE9R8XH",
        "outputId": "183e40e6-3ca5-4f2b-956c-a413d27c1ec9"
      },
      "outputs": [
        {
          "data": {
            "text/plain": [
              "<matplotlib.legend.Legend at 0x7fcce8c3b280>"
            ]
          },
          "execution_count": 77,
          "metadata": {},
          "output_type": "execute_result"
        },
        {
          "data": {
            "image/png": "[encoded data removed]",
            "text/plain": [
              "<Figure size 432x288 with 1 Axes>"
            ]
          },
          "metadata": {
            "needs_background": "light"
          },
          "output_type": "display_data"
        }
      ],
      "source": [
        "## Evaluate the Model\n",
        "import seaborn as sns\n",
        "import pandas as pd\n",
        "import matplotlib.pyplot as plt\n",
        "\n",
        "train_history = pd.DataFrame(history.history)\n",
        "train_history['epoch'] = history.epoch\n",
        "# Plot train loss\n",
        "sns.lineplot(x='epoch', y ='loss', data =train_history)\n",
        "# Plot validation loss\n",
        "sns.lineplot(x='epoch', y ='val_loss', data =train_history)\n",
        "# Add legends\n",
        "plt.legend(labels=['train_loss', 'val_loss'])"
      ],
      "id": "vfNXETE9R8XH"
    },
    {
      "cell_type": "code",
      "execution_count": null,
      "metadata": {
        "id": "5YQ51pQFR8XH",
        "outputId": "04e03150-ff1a-49cc-c872-4021a434bc8f"
      },
      "outputs": [
        {
          "data": {
            "text/plain": [
              "<matplotlib.legend.Legend at 0x7fcce8ab9070>"
            ]
          },
          "execution_count": 78,
          "metadata": {},
          "output_type": "execute_result"
        },
        {
          "data": {
            "image/png": "[encoded data removed]",
            "text/plain": [
              "<Figure size 432x288 with 1 Axes>"
            ]
          },
          "metadata": {
            "needs_background": "light"
          },
          "output_type": "display_data"
        }
      ],
      "source": [
        "sns.lineplot(x='epoch', y ='accuracy', data =train_history)\n",
        "# Plot validation loss\n",
        "sns.lineplot(x='epoch', y ='val_accuracy', data =train_history)\n",
        "# Add legends\n",
        "plt.legend(labels=['train_accuracy', 'val_accuracy'])"
      ],
      "id": "5YQ51pQFR8XH"
    },
    {
      "cell_type": "code",
      "execution_count": null,
      "metadata": {
        "id": "gNmnn5XpR8XI"
      },
      "outputs": [],
      "source": [
        "y_pred = (model.predict(X_test)> 0.5).astype(int)"
      ],
      "id": "gNmnn5XpR8XI"
    },
    {
      "cell_type": "code",
      "execution_count": null,
      "metadata": {
        "id": "K2f_oi9pR8XI",
        "outputId": "2b0c834b-7115-4d16-d32c-3463b12748a7"
      },
      "outputs": [
        {
          "data": {
            "text/plain": [
              "array([[70, 30],\n",
              "       [19, 81]])"
            ]
          },
          "execution_count": 80,
          "metadata": {},
          "output_type": "execute_result"
        }
      ],
      "source": [
        "from sklearn.metrics import confusion_matrix\n",
        "confusion_matrix(y_test, y_pred)"
      ],
      "id": "K2f_oi9pR8XI"
    },
    {
      "cell_type": "code",
      "execution_count": null,
      "metadata": {
        "id": "MgYqBQj1R8XJ",
        "outputId": "763450d8-1d20-4444-eccc-ab9aa15b08a5"
      },
      "outputs": [
        {
          "name": "stdout",
          "output_type": "stream",
          "text": [
            "              precision    recall  f1-score   support\n",
            "\n",
            "    negative       0.79      0.70      0.74       100\n",
            "    positive       0.73      0.81      0.77       100\n",
            "\n",
            "    accuracy                           0.76       200\n",
            "   macro avg       0.76      0.76      0.75       200\n",
            "weighted avg       0.76      0.76      0.75       200\n",
            "\n"
          ]
        }
      ],
      "source": [
        "from sklearn.metrics import classification_report\n",
        "label_names = ['negative', 'positive']\n",
        "print(classification_report(y_test, y_pred, target_names=label_names))"
      ],
      "id": "MgYqBQj1R8XJ"
    },
    {
      "cell_type": "markdown",
      "metadata": {
        "id": "wc4T15fTR8XJ"
      },
      "source": [
        "### 5.Build a third RNN model using embedding layer and GRU and LSTM and evaluate it on the test dataset."
      ],
      "id": "wc4T15fTR8XJ"
    },
    {
      "cell_type": "code",
      "execution_count": null,
      "metadata": {
        "id": "iUBjzLt5R8XJ"
      },
      "outputs": [],
      "source": [
        "model = tf.keras.Sequential([\n",
        "    # Convert review text to indices\n",
        "    encoder, \n",
        "    #convert words to numerical values that\"understand\" context\n",
        "    tf.keras.layers.Embedding(\n",
        "        input_dim=len(encoder.get_vocabulary()),\n",
        "        output_dim=64,# each word is mapped to a 64 dimensional vector\n",
        "       \n",
        "        mask_zero=True),\n",
        "    # passed the numerical value to a GRU unit \n",
        "    tf.keras.layers.GRU(256, return_sequences=True),\n",
        "    #then pass it to a LSTM\n",
        "    tf.keras.layers.Bidirectional(tf.keras.layers.LSTM(256)),\n",
        "    #the output of the above codes is a numerical vectorof the review text\n",
        "    #since the label has two classes of positive and negative \n",
        "    # Binary classifier\n",
        "    tf.keras.layers.Dense(64, activation='relu'),\n",
        "    # you may add more layer if you like \n",
        "    #the last layer must have one neuron since it is a binary classification \n",
        "    tf.keras.layers.Dense(1)\n",
        "])"
      ],
      "id": "iUBjzLt5R8XJ"
    },
    {
      "cell_type": "code",
      "execution_count": null,
      "metadata": {
        "id": "ON26dySMR8XK"
      },
      "outputs": [],
      "source": [
        "model.compile(loss=tf.keras.losses.BinaryCrossentropy(from_logits=True),\n",
        "              optimizer=tf.keras.optimizers.Adam(1e-4),\n",
        "              metrics=['accuracy'])"
      ],
      "id": "ON26dySMR8XK"
    },
    {
      "cell_type": "code",
      "execution_count": null,
      "metadata": {
        "id": "VR7A1crJR8XK",
        "outputId": "dac37ab5-f632-415c-cb22-19283f27ff17"
      },
      "outputs": [
        {
          "name": "stdout",
          "output_type": "stream",
          "text": [
            "Epoch 1/20\n",
            "25/25 [==============================] - 12s 206ms/step - loss: 0.6928 - accuracy: 0.5000 - val_loss: 0.6920 - val_accuracy: 0.5000\n",
            "Epoch 2/20\n",
            "25/25 [==============================] - 2s 80ms/step - loss: 0.6909 - accuracy: 0.5000 - val_loss: 0.6894 - val_accuracy: 0.5000\n",
            "Epoch 3/20\n",
            "25/25 [==============================] - 2s 94ms/step - loss: 0.6832 - accuracy: 0.5000 - val_loss: 0.6760 - val_accuracy: 0.5000\n",
            "Epoch 4/20\n",
            "25/25 [==============================] - 2s 97ms/step - loss: 0.6327 - accuracy: 0.5238 - val_loss: 0.5890 - val_accuracy: 0.6150\n",
            "Epoch 5/20\n",
            "25/25 [==============================] - 3s 104ms/step - loss: 0.4944 - accuracy: 0.7400 - val_loss: 0.5768 - val_accuracy: 0.6900\n",
            "Epoch 6/20\n",
            "25/25 [==============================] - 2s 93ms/step - loss: 0.4185 - accuracy: 0.8150 - val_loss: 0.5673 - val_accuracy: 0.7150\n",
            "Epoch 7/20\n",
            "25/25 [==============================] - 2s 97ms/step - loss: 0.3592 - accuracy: 0.8425 - val_loss: 0.5966 - val_accuracy: 0.7150\n",
            "Epoch 8/20\n",
            "25/25 [==============================] - 2s 97ms/step - loss: 0.2970 - accuracy: 0.8825 - val_loss: 0.6446 - val_accuracy: 0.7500\n",
            "Epoch 9/20\n",
            "25/25 [==============================] - 2s 95ms/step - loss: 0.2644 - accuracy: 0.8925 - val_loss: 0.7103 - val_accuracy: 0.7550\n",
            "Epoch 10/20\n",
            "25/25 [==============================] - 2s 92ms/step - loss: 0.2248 - accuracy: 0.9137 - val_loss: 0.8399 - val_accuracy: 0.8100\n",
            "Epoch 11/20\n",
            "25/25 [==============================] - 2s 87ms/step - loss: 0.1962 - accuracy: 0.9325 - val_loss: 0.8090 - val_accuracy: 0.7600\n",
            "Epoch 12/20\n",
            "25/25 [==============================] - 2s 91ms/step - loss: 0.2044 - accuracy: 0.9200 - val_loss: 0.8110 - val_accuracy: 0.7350\n",
            "Epoch 13/20\n",
            "25/25 [==============================] - 3s 102ms/step - loss: 0.1779 - accuracy: 0.9425 - val_loss: 0.9470 - val_accuracy: 0.8100\n",
            "Epoch 14/20\n",
            "25/25 [==============================] - 3s 105ms/step - loss: 0.1374 - accuracy: 0.9513 - val_loss: 1.0499 - val_accuracy: 0.8150\n",
            "Epoch 15/20\n",
            "25/25 [==============================] - 2s 94ms/step - loss: 0.1207 - accuracy: 0.9613 - val_loss: 1.1172 - val_accuracy: 0.8150\n",
            "Epoch 16/20\n",
            "25/25 [==============================] - 2s 89ms/step - loss: 0.1062 - accuracy: 0.9688 - val_loss: 1.2810 - val_accuracy: 0.8100\n",
            "Epoch 17/20\n",
            "25/25 [==============================] - 3s 107ms/step - loss: 0.0957 - accuracy: 0.9712 - val_loss: 1.3215 - val_accuracy: 0.8250\n",
            "Epoch 18/20\n",
            "25/25 [==============================] - 2s 97ms/step - loss: 0.0860 - accuracy: 0.9712 - val_loss: 1.4710 - val_accuracy: 0.8150\n",
            "Epoch 19/20\n",
            "25/25 [==============================] - 3s 103ms/step - loss: 0.0746 - accuracy: 0.9812 - val_loss: 1.5621 - val_accuracy: 0.8200\n",
            "Epoch 20/20\n",
            "25/25 [==============================] - 2s 90ms/step - loss: 0.0663 - accuracy: 0.9825 - val_loss: 1.6504 - val_accuracy: 0.8150\n",
            "CPU times: user 3min 28s, sys: 54 s, total: 4min 22s\n",
            "Wall time: 57.8 s\n"
          ]
        }
      ],
      "source": [
        "%%time\n",
        "history = model.fit(x=X_train,y=y_train,batch_size= 32,epochs=20,\n",
        "          validation_data=(X_test,y_test), verbose= 1\n",
        ")"
      ],
      "id": "VR7A1crJR8XK"
    },
    {
      "cell_type": "code",
      "execution_count": null,
      "metadata": {
        "id": "f6wcRgzeR8XL",
        "outputId": "1c638c4e-63b9-4338-c302-66034c8e039d"
      },
      "outputs": [
        {
          "data": {
            "text/plain": [
              "<matplotlib.legend.Legend at 0x7fccf2feebe0>"
            ]
          },
          "execution_count": 85,
          "metadata": {},
          "output_type": "execute_result"
        },
        {
          "data": {
            "image/png": "[encoded data removed]",
            "text/plain": [
              "<Figure size 432x288 with 1 Axes>"
            ]
          },
          "metadata": {
            "needs_background": "light"
          },
          "output_type": "display_data"
        }
      ],
      "source": [
        "## Evaluate the Model\n",
        "import seaborn as sns\n",
        "import pandas as pd\n",
        "import matplotlib.pyplot as plt\n",
        "\n",
        "train_history = pd.DataFrame(history.history)\n",
        "train_history['epoch'] = history.epoch\n",
        "# Plot train loss\n",
        "sns.lineplot(x='epoch', y ='loss', data =train_history)\n",
        "# Plot validation loss\n",
        "sns.lineplot(x='epoch', y ='val_loss', data =train_history)\n",
        "# Add legends\n",
        "plt.legend(labels=['train_loss', 'val_loss'])"
      ],
      "id": "f6wcRgzeR8XL"
    },
    {
      "cell_type": "code",
      "execution_count": null,
      "metadata": {
        "id": "A94dLLRuR8XL",
        "outputId": "07dca18a-fc87-48ab-f4d5-098a4c521fcc"
      },
      "outputs": [
        {
          "data": {
            "text/plain": [
              "<matplotlib.legend.Legend at 0x7fccf4d756a0>"
            ]
          },
          "execution_count": 86,
          "metadata": {},
          "output_type": "execute_result"
        },
        {
          "data": {
            "image/png": "[encoded data removed]",
            "text/plain": [
              "<Figure size 432x288 with 1 Axes>"
            ]
          },
          "metadata": {
            "needs_background": "light"
          },
          "output_type": "display_data"
        }
      ],
      "source": [
        "sns.lineplot(x='epoch', y ='accuracy', data =train_history)\n",
        "# Plot validation loss\n",
        "sns.lineplot(x='epoch', y ='val_accuracy', data =train_history)\n",
        "# Add legends\n",
        "plt.legend(labels=['train_accuracy', 'val_accuracy'])"
      ],
      "id": "A94dLLRuR8XL"
    },
    {
      "cell_type": "code",
      "execution_count": null,
      "metadata": {
        "id": "XeuKcEBkR8XL"
      },
      "outputs": [],
      "source": [
        "y_pred = (model.predict(X_test)> 0.5).astype(int)"
      ],
      "id": "XeuKcEBkR8XL"
    },
    {
      "cell_type": "code",
      "execution_count": null,
      "metadata": {
        "id": "zBU1cdoPR8XM",
        "outputId": "cae63309-075e-4bdb-8d18-8e73b58a0b33"
      },
      "outputs": [
        {
          "data": {
            "text/plain": [
              "array([[81, 19],\n",
              "       [18, 82]])"
            ]
          },
          "execution_count": 88,
          "metadata": {},
          "output_type": "execute_result"
        }
      ],
      "source": [
        "from sklearn.metrics import confusion_matrix\n",
        "confusion_matrix(y_test, y_pred)"
      ],
      "id": "zBU1cdoPR8XM"
    },
    {
      "cell_type": "code",
      "execution_count": null,
      "metadata": {
        "scrolled": true,
        "id": "JzGEmZLKR8XM",
        "outputId": "b5e92a6d-1918-4427-ae41-bf8c08c756c2"
      },
      "outputs": [
        {
          "name": "stdout",
          "output_type": "stream",
          "text": [
            "              precision    recall  f1-score   support\n",
            "\n",
            "    negative       0.82      0.81      0.81       100\n",
            "    positive       0.81      0.82      0.82       100\n",
            "\n",
            "    accuracy                           0.81       200\n",
            "   macro avg       0.82      0.81      0.81       200\n",
            "weighted avg       0.82      0.81      0.81       200\n",
            "\n"
          ]
        }
      ],
      "source": [
        "from sklearn.metrics import classification_report\n",
        "label_names = ['negative', 'positive']\n",
        "print(classification_report(y_test, y_pred, target_names=label_names))"
      ],
      "id": "JzGEmZLKR8XM"
    },
    {
      "cell_type": "markdown",
      "metadata": {
        "id": "kKc-I5qzR8XM"
      },
      "source": [],
      "id": "kKc-I5qzR8XM"
    },
    {
      "cell_type": "markdown",
      "metadata": {
        "id": "jGuCji0lR8XM"
      },
      "source": [
        "### The last model is the best since we get a high accuracy when we use embedding layer and GRU and LSTM together."
      ],
      "id": "jGuCji0lR8XM"
    },
    {
      "cell_type": "code",
      "execution_count": null,
      "metadata": {
        "id": "2BHz377oR8XN"
      },
      "outputs": [],
      "source": [],
      "id": "2BHz377oR8XN"
    }
  ],
  "metadata": {
    "kernelspec": {
      "display_name": "Python 3",
      "language": "python",
      "name": "python3"
    },
    "language_info": {
      "codemirror_mode": {
        "name": "ipython",
        "version": 3
      },
      "file_extension": ".py",
      "mimetype": "text/x-python",
      "name": "python",
      "nbconvert_exporter": "python",
      "pygments_lexer": "ipython3",
      "version": "3.8.5"
    },
    "colab": {
      "provenance": [],
      "include_colab_link": true
    }
  },
  "nbformat": 4,
  "nbformat_minor": 5
}